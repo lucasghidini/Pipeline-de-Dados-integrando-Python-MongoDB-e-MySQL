{
 "cells": [
  {
   "cell_type": "markdown",
   "id": "2906a875",
   "metadata": {},
   "source": [
    "## Conectando ao MySQL"
   ]
  },
  {
   "cell_type": "code",
   "execution_count": 18,
   "id": "52b28618",
   "metadata": {},
   "outputs": [
    {
     "name": "stdout",
     "output_type": "stream",
     "text": [
      "<mysql.connector.connection_cext.CMySQLConnection object at 0x000001D54CA4D450>\n"
     ]
    }
   ],
   "source": [
    "import mysql.connector\n",
    "import os\n",
    "from dotenv import load_dotenv\n",
    "\n",
    "\n",
    "load_dotenv()\n",
    "\n",
    "conn = mysql.connector.connect(\n",
    "    host=os.getenv('DB_HOST'),\n",
    "    user=os.getenv('DB_USER'),\n",
    "    password=os.getenv('DB_PASSWORD'),\n",
    "    database=os.getenv('DB_NAME')\n",
    "    )\n",
    "print(conn)"
   ]
  },
  {
   "cell_type": "code",
   "execution_count": 19,
   "id": "2f12b576",
   "metadata": {},
   "outputs": [],
   "source": [
    "cursor = conn.cursor()"
   ]
  },
  {
   "cell_type": "markdown",
   "id": "df22ad2c",
   "metadata": {},
   "source": [
    "### Criando um DataBase"
   ]
  },
  {
   "cell_type": "code",
   "execution_count": 20,
   "id": "b72fe85c",
   "metadata": {},
   "outputs": [],
   "source": [
    "cursor.execute(\"CREATE DATABASE IF NOT EXISTS db_produtos;\")\n"
   ]
  },
  {
   "cell_type": "markdown",
   "id": "5ca32d82",
   "metadata": {},
   "source": [
    "#### Criando tabelas no database\n"
   ]
  },
  {
   "cell_type": "code",
   "execution_count": 23,
   "id": "abd49c29",
   "metadata": {},
   "outputs": [],
   "source": [
    "import pandas as pd\n",
    "\n",
    "df_livros = pd.read_csv(r'C:\\Users\\Lucas\\Desktop\\Alura\\Trilha data science\\MongoDB, Python\\data\\livros.csv')"
   ]
  },
  {
   "cell_type": "code",
   "execution_count": 24,
   "id": "eca20865",
   "metadata": {},
   "outputs": [
    {
     "data": {
      "text/html": [
       "<div>\n",
       "<style scoped>\n",
       "    .dataframe tbody tr th:only-of-type {\n",
       "        vertical-align: middle;\n",
       "    }\n",
       "\n",
       "    .dataframe tbody tr th {\n",
       "        vertical-align: top;\n",
       "    }\n",
       "\n",
       "    .dataframe thead th {\n",
       "        text-align: right;\n",
       "    }\n",
       "</style>\n",
       "<table border=\"1\" class=\"dataframe\">\n",
       "  <thead>\n",
       "    <tr style=\"text-align: right;\">\n",
       "      <th></th>\n",
       "      <th>_id</th>\n",
       "      <th>Produto</th>\n",
       "      <th>Categoria do Produto</th>\n",
       "      <th>Preço</th>\n",
       "      <th>Frete</th>\n",
       "      <th>Data da Compra</th>\n",
       "      <th>Vendedor</th>\n",
       "      <th>Local da compra</th>\n",
       "      <th>Avaliação da compra</th>\n",
       "      <th>Tipo de pagamento</th>\n",
       "      <th>Quantidade de parcelas</th>\n",
       "      <th>Latitude</th>\n",
       "      <th>Longitude</th>\n",
       "    </tr>\n",
       "  </thead>\n",
       "  <tbody>\n",
       "    <tr>\n",
       "      <th>0</th>\n",
       "      <td>68b34de9d11378dbd2fed6be</td>\n",
       "      <td>Modelagem preditiva</td>\n",
       "      <td>livros</td>\n",
       "      <td>92.45</td>\n",
       "      <td>5.609697</td>\n",
       "      <td>2020-01-01</td>\n",
       "      <td>Thiago Silva</td>\n",
       "      <td>BA</td>\n",
       "      <td>1</td>\n",
       "      <td>cartao_credito</td>\n",
       "      <td>3</td>\n",
       "      <td>-13.29</td>\n",
       "      <td>-41.71</td>\n",
       "    </tr>\n",
       "    <tr>\n",
       "      <th>1</th>\n",
       "      <td>68b34de9d11378dbd2fed6bf</td>\n",
       "      <td>Iniciando em programação</td>\n",
       "      <td>livros</td>\n",
       "      <td>43.84</td>\n",
       "      <td>0.000000</td>\n",
       "      <td>2020-01-01</td>\n",
       "      <td>Mariana Ferreira</td>\n",
       "      <td>SP</td>\n",
       "      <td>5</td>\n",
       "      <td>cartao_credito</td>\n",
       "      <td>1</td>\n",
       "      <td>-22.19</td>\n",
       "      <td>-48.79</td>\n",
       "    </tr>\n",
       "    <tr>\n",
       "      <th>2</th>\n",
       "      <td>68b34de9d11378dbd2fed6d1</td>\n",
       "      <td>Iniciando em programação</td>\n",
       "      <td>livros</td>\n",
       "      <td>63.25</td>\n",
       "      <td>3.894137</td>\n",
       "      <td>2022-01-01</td>\n",
       "      <td>Juliana Costa</td>\n",
       "      <td>RJ</td>\n",
       "      <td>5</td>\n",
       "      <td>cartao_credito</td>\n",
       "      <td>4</td>\n",
       "      <td>-22.25</td>\n",
       "      <td>-42.66</td>\n",
       "    </tr>\n",
       "    <tr>\n",
       "      <th>3</th>\n",
       "      <td>68b34de9d11378dbd2fed6df</td>\n",
       "      <td>Ciência de dados com python</td>\n",
       "      <td>livros</td>\n",
       "      <td>86.13</td>\n",
       "      <td>5.273176</td>\n",
       "      <td>2021-02-01</td>\n",
       "      <td>Camila Ribeiro</td>\n",
       "      <td>RJ</td>\n",
       "      <td>4</td>\n",
       "      <td>cartao_credito</td>\n",
       "      <td>3</td>\n",
       "      <td>-22.25</td>\n",
       "      <td>-42.66</td>\n",
       "    </tr>\n",
       "    <tr>\n",
       "      <th>4</th>\n",
       "      <td>68b34de9d11378dbd2fed6e1</td>\n",
       "      <td>Ciência de dados com python</td>\n",
       "      <td>livros</td>\n",
       "      <td>72.75</td>\n",
       "      <td>1.458158</td>\n",
       "      <td>2021-02-01</td>\n",
       "      <td>Beatriz Moraes</td>\n",
       "      <td>PR</td>\n",
       "      <td>4</td>\n",
       "      <td>cartao_credito</td>\n",
       "      <td>2</td>\n",
       "      <td>-24.89</td>\n",
       "      <td>-51.55</td>\n",
       "    </tr>\n",
       "  </tbody>\n",
       "</table>\n",
       "</div>"
      ],
      "text/plain": [
       "                        _id                      Produto Categoria do Produto  \\\n",
       "0  68b34de9d11378dbd2fed6be          Modelagem preditiva               livros   \n",
       "1  68b34de9d11378dbd2fed6bf     Iniciando em programação               livros   \n",
       "2  68b34de9d11378dbd2fed6d1     Iniciando em programação               livros   \n",
       "3  68b34de9d11378dbd2fed6df  Ciência de dados com python               livros   \n",
       "4  68b34de9d11378dbd2fed6e1  Ciência de dados com python               livros   \n",
       "\n",
       "   Preço     Frete Data da Compra          Vendedor Local da compra  \\\n",
       "0  92.45  5.609697     2020-01-01      Thiago Silva              BA   \n",
       "1  43.84  0.000000     2020-01-01  Mariana Ferreira              SP   \n",
       "2  63.25  3.894137     2022-01-01     Juliana Costa              RJ   \n",
       "3  86.13  5.273176     2021-02-01    Camila Ribeiro              RJ   \n",
       "4  72.75  1.458158     2021-02-01    Beatriz Moraes              PR   \n",
       "\n",
       "   Avaliação da compra Tipo de pagamento  Quantidade de parcelas  Latitude  \\\n",
       "0                    1    cartao_credito                       3    -13.29   \n",
       "1                    5    cartao_credito                       1    -22.19   \n",
       "2                    5    cartao_credito                       4    -22.25   \n",
       "3                    4    cartao_credito                       3    -22.25   \n",
       "4                    4    cartao_credito                       2    -24.89   \n",
       "\n",
       "   Longitude  \n",
       "0     -41.71  \n",
       "1     -48.79  \n",
       "2     -42.66  \n",
       "3     -42.66  \n",
       "4     -51.55  "
      ]
     },
     "execution_count": 24,
     "metadata": {},
     "output_type": "execute_result"
    }
   ],
   "source": [
    "df_livros.head()"
   ]
  },
  {
   "cell_type": "code",
   "execution_count": 25,
   "id": "b17f6b0e",
   "metadata": {},
   "outputs": [
    {
     "data": {
      "text/plain": [
       "Index(['_id', 'Produto', 'Categoria do Produto', 'Preço', 'Frete',\n",
       "       'Data da Compra', 'Vendedor', 'Local da compra', 'Avaliação da compra',\n",
       "       'Tipo de pagamento', 'Quantidade de parcelas', 'Latitude', 'Longitude'],\n",
       "      dtype='object')"
      ]
     },
     "execution_count": 25,
     "metadata": {},
     "output_type": "execute_result"
    }
   ],
   "source": [
    "df_livros.columns"
   ]
  },
  {
   "cell_type": "code",
   "execution_count": 26,
   "id": "370a6c43",
   "metadata": {},
   "outputs": [
    {
     "data": {
      "text/plain": [
       "(742, 13)"
      ]
     },
     "execution_count": 26,
     "metadata": {},
     "output_type": "execute_result"
    }
   ],
   "source": [
    "df_livros.shape"
   ]
  },
  {
   "cell_type": "code",
   "execution_count": 28,
   "id": "0709c80d",
   "metadata": {},
   "outputs": [],
   "source": [
    "cursor.execute('''\n",
    "                CREATE TABLE IF NOT EXISTS db_produtos.tb_livros(\n",
    "                id VARCHAR(100),\n",
    "                Produto VARCHAR(100),\n",
    "                Categoria_Produto VARCHAR(100),\n",
    "                Preco FLOAT(10,2),\n",
    "                Frete FLOAT(10,2),\n",
    "                Data_Compra DATE,\n",
    "                Vendedor VARCHAR(100),\n",
    "                Local_Compra VARCHAR(100),\n",
    "                Avaliacao_Compra INT,\n",
    "                Tipo_Pagamento VARCHAR(100),\n",
    "                Qntd_Parcelas INT,\n",
    "                Latitude FLOAT(10,2),\n",
    "                Longitude FLOAT(10,2),\n",
    "                \n",
    "                PRIMARY KEY (id));\n",
    "               ''')"
   ]
  },
  {
   "cell_type": "code",
   "execution_count": 29,
   "id": "8fa46bef",
   "metadata": {},
   "outputs": [
    {
     "name": "stdout",
     "output_type": "stream",
     "text": [
      "('tb_livros',)\n"
     ]
    }
   ],
   "source": [
    "cursor.execute(\"USE db_produtos;\")\n",
    "cursor.execute(\"SHOW TABLES;\")\n",
    "\n",
    "for tb in cursor:\n",
    "  print(tb)"
   ]
  }
 ],
 "metadata": {
  "kernelspec": {
   "display_name": "Python 3",
   "language": "python",
   "name": "python3"
  },
  "language_info": {
   "codemirror_mode": {
    "name": "ipython",
    "version": 3
   },
   "file_extension": ".py",
   "mimetype": "text/x-python",
   "name": "python",
   "nbconvert_exporter": "python",
   "pygments_lexer": "ipython3",
   "version": "3.13.3"
  }
 },
 "nbformat": 4,
 "nbformat_minor": 5
}
