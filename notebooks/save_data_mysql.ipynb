{
 "cells": [
  {
   "cell_type": "markdown",
   "id": "2906a875",
   "metadata": {},
   "source": [
    "## Conectando ao MySQL"
   ]
  },
  {
   "cell_type": "code",
   "execution_count": 18,
   "id": "52b28618",
   "metadata": {},
   "outputs": [
    {
     "name": "stdout",
     "output_type": "stream",
     "text": [
      "<mysql.connector.connection_cext.CMySQLConnection object at 0x000001D54CA4D450>\n"
     ]
    }
   ],
   "source": [
    "import mysql.connector\n",
    "import os\n",
    "from dotenv import load_dotenv\n",
    "\n",
    "\n",
    "load_dotenv()\n",
    "\n",
    "conn = mysql.connector.connect(\n",
    "    host=os.getenv('DB_HOST'),\n",
    "    user=os.getenv('DB_USER'),\n",
    "    password=os.getenv('DB_PASSWORD'),\n",
    "    database=os.getenv('DB_NAME')\n",
    "    )\n",
    "print(conn)"
   ]
  },
  {
   "cell_type": "code",
   "execution_count": 19,
   "id": "2f12b576",
   "metadata": {},
   "outputs": [],
   "source": [
    "cursor = conn.cursor()"
   ]
  },
  {
   "cell_type": "markdown",
   "id": "df22ad2c",
   "metadata": {},
   "source": [
    "### Criando um DataBase"
   ]
  },
  {
   "cell_type": "code",
   "execution_count": 20,
   "id": "b72fe85c",
   "metadata": {},
   "outputs": [],
   "source": [
    "cursor.execute(\"CREATE DATABASE IF NOT EXISTS db_produtos;\")\n"
   ]
  },
  {
   "cell_type": "code",
   "execution_count": null,
   "id": "abd49c29",
   "metadata": {},
   "outputs": [],
   "source": []
  }
 ],
 "metadata": {
  "kernelspec": {
   "display_name": "Python 3",
   "language": "python",
   "name": "python3"
  },
  "language_info": {
   "codemirror_mode": {
    "name": "ipython",
    "version": 3
   },
   "file_extension": ".py",
   "mimetype": "text/x-python",
   "name": "python",
   "nbconvert_exporter": "python",
   "pygments_lexer": "ipython3",
   "version": "3.13.3"
  }
 },
 "nbformat": 4,
 "nbformat_minor": 5
}
